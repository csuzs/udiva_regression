{
 "cells": [
  {
   "cell_type": "code",
   "execution_count": 1,
   "metadata": {},
   "outputs": [],
   "source": [
    "import h5py as hp\n"
   ]
  },
  {
   "cell_type": "code",
   "execution_count": 2,
   "metadata": {},
   "outputs": [],
   "source": [
    "f = hp.File('annotations_raw.hdf5')"
   ]
  },
  {
   "cell_type": "code",
   "execution_count": 9,
   "metadata": {},
   "outputs": [
    {
     "ename": "TypeError",
     "evalue": "'KeysViewHDF5' object is not subscriptable",
     "output_type": "error",
     "traceback": [
      "\u001b[0;31m---------------------------------------------------------------------------\u001b[0m",
      "\u001b[0;31mTypeError\u001b[0m                                 Traceback (most recent call last)",
      "Cell \u001b[0;32mIn[9], line 2\u001b[0m\n\u001b[1;32m      1\u001b[0m \u001b[39mimport\u001b[39;00m \u001b[39msys\u001b[39;00m\n\u001b[0;32m----> 2\u001b[0m sys\u001b[39m.\u001b[39mgetsizeof(\u001b[39mlist\u001b[39m(f\u001b[39m.\u001b[39;49mkeys()[\u001b[39m0\u001b[39;49m]))\n",
      "\u001b[0;31mTypeError\u001b[0m: 'KeysViewHDF5' object is not subscriptable"
     ]
    }
   ],
   "source": [
    "import sys"
   ]
  },
  {
   "cell_type": "code",
   "execution_count": 4,
   "metadata": {},
   "outputs": [],
   "source": [
    "l = list(f.keys())"
   ]
  },
  {
   "cell_type": "code",
   "execution_count": 5,
   "metadata": {},
   "outputs": [],
   "source": [
    "a = f['00000']"
   ]
  },
  {
   "cell_type": "code",
   "execution_count": 6,
   "metadata": {},
   "outputs": [],
   "source": [
    "face = a['face']"
   ]
  },
  {
   "cell_type": "code",
   "execution_count": 7,
   "metadata": {},
   "outputs": [],
   "source": [
    "lm = face['landmarks']"
   ]
  },
  {
   "cell_type": "code",
   "execution_count": 18,
   "metadata": {},
   "outputs": [
    {
     "data": {
      "text/plain": [
       "<KeysViewHDF5 ['body', 'face', 'hands']>"
      ]
     },
     "execution_count": 18,
     "metadata": {},
     "output_type": "execute_result"
    }
   ],
   "source": [
    "f['00000']"
   ]
  },
  {
   "cell_type": "code",
   "execution_count": 20,
   "metadata": {},
   "outputs": [
    {
     "data": {
      "text/plain": [
       "30500"
      ]
     },
     "execution_count": 20,
     "metadata": {},
     "output_type": "execute_result"
    }
   ],
   "source": [
    "len(l)"
   ]
  },
  {
   "cell_type": "code",
   "execution_count": 1,
   "metadata": {},
   "outputs": [],
   "source": [
    "from decord import VideoReader\n",
    "from decord import cpu, gpu\n",
    "import sys\n",
    "from pathlib import Path"
   ]
  },
  {
   "cell_type": "code",
   "execution_count": null,
   "metadata": {},
   "outputs": [],
   "source": []
  },
  {
   "cell_type": "code",
   "execution_count": 2,
   "metadata": {},
   "outputs": [
    {
     "ename": "TypeError",
     "evalue": "Don't know how to handle type <class 'pathlib.PosixPath'>",
     "output_type": "error",
     "traceback": [
      "\u001b[0;31m---------------------------------------------------------------------------\u001b[0m",
      "\u001b[0;31mTypeError\u001b[0m                                 Traceback (most recent call last)",
      "Cell \u001b[0;32mIn[2], line 1\u001b[0m\n\u001b[0;32m----> 1\u001b[0m vr \u001b[39m=\u001b[39m VideoReader(Path(\u001b[39m'\u001b[39;49m\u001b[39m/nas/adnd/T1/db/UDIVA/train/recordings/animals_recordings_train/020090/FC1_A.mp4\u001b[39;49m\u001b[39m'\u001b[39;49m), ctx\u001b[39m=\u001b[39;49mcpu(\u001b[39m0\u001b[39;49m))\n",
      "File \u001b[0;32m~/a9gads_workdir/project-workspace/udiva_regression/venv/lib/python3.10/site-packages/decord/video_reader.py:54\u001b[0m, in \u001b[0;36mVideoReader.__init__\u001b[0;34m(self, uri, ctx, width, height, num_threads, fault_tol)\u001b[0m\n\u001b[1;32m     51\u001b[0m     \u001b[39mself\u001b[39m\u001b[39m.\u001b[39m_handle \u001b[39m=\u001b[39m _CAPI_VideoReaderGetVideoReader(\n\u001b[1;32m     52\u001b[0m         ba, ctx\u001b[39m.\u001b[39mdevice_type, ctx\u001b[39m.\u001b[39mdevice_id, width, height, num_threads, \u001b[39m2\u001b[39m, fault_tol)\n\u001b[1;32m     53\u001b[0m \u001b[39melse\u001b[39;00m:\n\u001b[0;32m---> 54\u001b[0m     \u001b[39mself\u001b[39m\u001b[39m.\u001b[39m_handle \u001b[39m=\u001b[39m _CAPI_VideoReaderGetVideoReader(\n\u001b[1;32m     55\u001b[0m         uri, ctx\u001b[39m.\u001b[39;49mdevice_type, ctx\u001b[39m.\u001b[39;49mdevice_id, width, height, num_threads, \u001b[39m0\u001b[39;49m, fault_tol)\n\u001b[1;32m     56\u001b[0m \u001b[39mif\u001b[39;00m \u001b[39mself\u001b[39m\u001b[39m.\u001b[39m_handle \u001b[39mis\u001b[39;00m \u001b[39mNone\u001b[39;00m:\n\u001b[1;32m     57\u001b[0m     \u001b[39mraise\u001b[39;00m \u001b[39mRuntimeError\u001b[39;00m(\u001b[39m\"\u001b[39m\u001b[39mError reading \u001b[39m\u001b[39m\"\u001b[39m \u001b[39m+\u001b[39m uri \u001b[39m+\u001b[39m \u001b[39m\"\u001b[39m\u001b[39m...\u001b[39m\u001b[39m\"\u001b[39m)\n",
      "File \u001b[0;32m~/a9gads_workdir/project-workspace/udiva_regression/venv/lib/python3.10/site-packages/decord/_ffi/_ctypes/function.py:170\u001b[0m, in \u001b[0;36mFunctionBase.__call__\u001b[0;34m(self, *args)\u001b[0m\n\u001b[1;32m    164\u001b[0m \u001b[39m\u001b[39m\u001b[39m\"\"\"Call the function with positional arguments\u001b[39;00m\n\u001b[1;32m    165\u001b[0m \n\u001b[1;32m    166\u001b[0m \u001b[39margs : list\u001b[39;00m\n\u001b[1;32m    167\u001b[0m \u001b[39m   The positional arguments to the function call.\u001b[39;00m\n\u001b[1;32m    168\u001b[0m \u001b[39m\"\"\"\u001b[39;00m\n\u001b[1;32m    169\u001b[0m temp_args \u001b[39m=\u001b[39m []\n\u001b[0;32m--> 170\u001b[0m values, tcodes, num_args \u001b[39m=\u001b[39m _make_decord_args(args, temp_args)\n\u001b[1;32m    171\u001b[0m ret_val \u001b[39m=\u001b[39m DECORDValue()\n\u001b[1;32m    172\u001b[0m ret_tcode \u001b[39m=\u001b[39m ctypes\u001b[39m.\u001b[39mc_int()\n",
      "File \u001b[0;32m~/a9gads_workdir/project-workspace/udiva_regression/venv/lib/python3.10/site-packages/decord/_ffi/_ctypes/function.py:137\u001b[0m, in \u001b[0;36m_make_decord_args\u001b[0;34m(args, temp_args)\u001b[0m\n\u001b[1;32m    135\u001b[0m         temp_args\u001b[39m.\u001b[39mappend(arg)\n\u001b[1;32m    136\u001b[0m     \u001b[39melse\u001b[39;00m:\n\u001b[0;32m--> 137\u001b[0m         \u001b[39mraise\u001b[39;00m \u001b[39mTypeError\u001b[39;00m(\u001b[39m\"\u001b[39m\u001b[39mDon\u001b[39m\u001b[39m'\u001b[39m\u001b[39mt know how to handle type \u001b[39m\u001b[39m%s\u001b[39;00m\u001b[39m\"\u001b[39m \u001b[39m%\u001b[39m \u001b[39mtype\u001b[39m(arg))\n\u001b[1;32m    138\u001b[0m \u001b[39mreturn\u001b[39;00m values, type_codes, num_args\n",
      "\u001b[0;31mTypeError\u001b[0m: Don't know how to handle type <class 'pathlib.PosixPath'>"
     ]
    }
   ],
   "source": [
    "vr = VideoReader(Path('/nas/adnd/T1/db/UDIVA/train/recordings/animals_recordings_train/020090/FC1_A.mp4'), ctx=cpu(0))\n"
   ]
  },
  {
   "cell_type": "code",
   "execution_count": null,
   "metadata": {},
   "outputs": [],
   "source": []
  },
  {
   "cell_type": "code",
   "execution_count": 28,
   "metadata": {},
   "outputs": [],
   "source": [
    "with open('/nas/adnd/T1/db/UDIVA/train/recordings/animals_recordings_train/020090/FC1_A.mp4','rb') as f:\n",
    "    vr2 = VideoReader(f,ctx=cpu(0))"
   ]
  },
  {
   "cell_type": "code",
   "execution_count": 41,
   "metadata": {},
   "outputs": [],
   "source": [
    "frame = vr[0]"
   ]
  },
  {
   "cell_type": "code",
   "execution_count": 44,
   "metadata": {},
   "outputs": [],
   "source": [
    "framenp = frame.asnumpy()"
   ]
  },
  {
   "cell_type": "code",
   "execution_count": 47,
   "metadata": {},
   "outputs": [
    {
     "data": {
      "text/plain": [
       "(720, 1280, 3)"
      ]
     },
     "execution_count": 47,
     "metadata": {},
     "output_type": "execute_result"
    }
   ],
   "source": []
  },
  {
   "cell_type": "code",
   "execution_count": 24,
   "metadata": {},
   "outputs": [
    {
     "data": {
      "text/plain": [
       "20489"
      ]
     },
     "execution_count": 24,
     "metadata": {},
     "output_type": "execute_result"
    }
   ],
   "source": [
    "len(vr)"
   ]
  }
 ],
 "metadata": {
  "kernelspec": {
   "display_name": "venv",
   "language": "python",
   "name": "python3"
  },
  "language_info": {
   "codemirror_mode": {
    "name": "ipython",
    "version": 3
   },
   "file_extension": ".py",
   "mimetype": "text/x-python",
   "name": "python",
   "nbconvert_exporter": "python",
   "pygments_lexer": "ipython3",
   "version": "3.10.10"
  },
  "orig_nbformat": 4
 },
 "nbformat": 4,
 "nbformat_minor": 2
}
