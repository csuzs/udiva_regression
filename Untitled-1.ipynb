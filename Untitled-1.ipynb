{
 "cells": [
  {
   "cell_type": "code",
   "execution_count": 104,
   "metadata": {
    "ExecuteTime": {
     "end_time": "2023-06-18T13:25:52.876380Z",
     "start_time": "2023-06-18T13:25:52.872035Z"
    }
   },
   "outputs": [],
   "source": [
    "import h5py as hp\n",
    "import decord\n",
    "from decord import VideoReader,AudioReader\n",
    "from decord import cpu,gpu\n",
    "import numpy as np\n"
   ]
  },
  {
   "cell_type": "code",
   "execution_count": 7,
   "metadata": {
    "ExecuteTime": {
     "end_time": "2023-06-18T12:24:05.733211Z",
     "start_time": "2023-06-18T12:24:05.729966Z"
    }
   },
   "outputs": [],
   "source": [
    "f = hp.File('002003/FC1_A/annotations_raw.hdf5')"
   ]
  },
  {
   "cell_type": "code",
   "execution_count": 8,
   "metadata": {
    "ExecuteTime": {
     "end_time": "2023-06-18T12:24:07.570221Z",
     "start_time": "2023-06-18T12:24:07.562521Z"
    }
   },
   "outputs": [],
   "source": [
    "import sys"
   ]
  },
  {
   "cell_type": "code",
   "execution_count": 9,
   "metadata": {
    "ExecuteTime": {
     "end_time": "2023-06-18T12:24:14.838447Z",
     "start_time": "2023-06-18T12:24:14.836844Z"
    }
   },
   "outputs": [],
   "source": [
    "l = list(f.keys())"
   ]
  },
  {
   "cell_type": "code",
   "execution_count": 29,
   "outputs": [],
   "source": [
    "vr = VideoReader(\"002003/video/FC1_a.mp4\")\n",
    "ar = AudioReader(\"002003/video/FC1_a.mp4\",sample_rate=44100,mono=False)"
   ],
   "metadata": {
    "collapsed": false,
    "ExecuteTime": {
     "end_time": "2023-06-18T12:30:46.558902Z",
     "start_time": "2023-06-18T12:30:42.295303Z"
    }
   }
  },
  {
   "cell_type": "code",
   "execution_count": 139,
   "outputs": [],
   "source": [
    "ec_vr = VideoReader(\"002003/video/FC2_a.mp4\")\n",
    "ec_ar = AudioReader(\"002003/video/FC2_a.mp4\",sample_rate=44100,mono=False)"
   ],
   "metadata": {
    "collapsed": false,
    "ExecuteTime": {
     "end_time": "2023-06-18T13:45:39.751408Z",
     "start_time": "2023-06-18T13:45:34.869970Z"
    }
   }
  },
  {
   "cell_type": "code",
   "execution_count": 142,
   "outputs": [
    {
     "data": {
      "text/plain": "(30500, 30500)"
     },
     "execution_count": 142,
     "metadata": {},
     "output_type": "execute_result"
    }
   ],
   "source": [
    "len(vr),len(ec_vr)"
   ],
   "metadata": {
    "collapsed": false,
    "ExecuteTime": {
     "end_time": "2023-06-18T13:45:51.187662Z",
     "start_time": "2023-06-18T13:45:51.181883Z"
    }
   }
  },
  {
   "cell_type": "code",
   "execution_count": 53,
   "outputs": [],
   "source": [
    "aud = ar.get_batch([range(1,1+132300)]).asnumpy()"
   ],
   "metadata": {
    "collapsed": false,
    "ExecuteTime": {
     "end_time": "2023-06-18T12:38:16.539209Z",
     "start_time": "2023-06-18T12:38:16.530137Z"
    }
   }
  },
  {
   "cell_type": "code",
   "execution_count": 98,
   "outputs": [],
   "source": [
    "vrlen = len(vr)\n",
    "arlen = len(ar[0])"
   ],
   "metadata": {
    "collapsed": false,
    "ExecuteTime": {
     "end_time": "2023-06-18T13:23:52.582070Z",
     "start_time": "2023-06-18T13:23:52.577534Z"
    }
   }
  },
  {
   "cell_type": "code",
   "execution_count": 127,
   "outputs": [
    {
     "data": {
      "text/plain": "176396.59016393442"
     },
     "execution_count": 127,
     "metadata": {},
     "output_type": "execute_result"
    }
   ],
   "source": [
    "ar.shape[1] * (100 / vrlen)"
   ],
   "metadata": {
    "collapsed": false,
    "ExecuteTime": {
     "end_time": "2023-06-18T13:30:46.500043Z",
     "start_time": "2023-06-18T13:30:46.494351Z"
    }
   }
  },
  {
   "cell_type": "code",
   "execution_count": 138,
   "outputs": [
    {
     "data": {
      "text/plain": "(0.002459016393442623, 0.002459063927483822)"
     },
     "execution_count": 138,
     "metadata": {},
     "output_type": "execute_result"
    }
   ],
   "source": [
    "75 / vrlen, 132300 / ar.shape[1]"
   ],
   "metadata": {
    "collapsed": false,
    "ExecuteTime": {
     "end_time": "2023-06-18T13:33:16.027439Z",
     "start_time": "2023-06-18T13:33:16.023496Z"
    }
   }
  },
  {
   "cell_type": "code",
   "execution_count": 65,
   "outputs": [
    {
     "data": {
      "text/plain": "1220"
     },
     "execution_count": 65,
     "metadata": {},
     "output_type": "execute_result"
    }
   ],
   "source": [
    "20 + 60*20"
   ],
   "metadata": {
    "collapsed": false,
    "ExecuteTime": {
     "end_time": "2023-06-18T12:46:49.594994Z",
     "start_time": "2023-06-18T12:46:49.591512Z"
    }
   }
  },
  {
   "cell_type": "code",
   "execution_count": 10,
   "metadata": {
    "ExecuteTime": {
     "end_time": "2023-06-18T12:24:16.791639Z",
     "start_time": "2023-06-18T12:24:16.784598Z"
    }
   },
   "outputs": [],
   "source": [
    "a = f['00000']"
   ]
  },
  {
   "cell_type": "code",
   "execution_count": 6,
   "metadata": {},
   "outputs": [],
   "source": [
    "face = a['face']"
   ]
  },
  {
   "cell_type": "code",
   "execution_count": 7,
   "metadata": {},
   "outputs": [],
   "source": [
    "lm = face['landmarks']"
   ]
  },
  {
   "cell_type": "code",
   "execution_count": 18,
   "metadata": {},
   "outputs": [
    {
     "data": {
      "text/plain": [
       "<KeysViewHDF5 ['body', 'face', 'hands']>"
      ]
     },
     "execution_count": 18,
     "metadata": {},
     "output_type": "execute_result"
    }
   ],
   "source": [
    "f['00000']"
   ]
  },
  {
   "cell_type": "code",
   "execution_count": 20,
   "metadata": {},
   "outputs": [
    {
     "data": {
      "text/plain": [
       "30500"
      ]
     },
     "execution_count": 20,
     "metadata": {},
     "output_type": "execute_result"
    }
   ],
   "source": [
    "len(l)"
   ]
  },
  {
   "cell_type": "code",
   "execution_count": 1,
   "metadata": {},
   "outputs": [],
   "source": [
    "from decord import VideoReader\n",
    "from decord import cpu, gpu\n",
    "import sys\n",
    "from pathlib import Path"
   ]
  },
  {
   "cell_type": "code",
   "execution_count": null,
   "metadata": {},
   "outputs": [],
   "source": []
  },
  {
   "cell_type": "code",
   "execution_count": 2,
   "metadata": {},
   "outputs": [
    {
     "ename": "TypeError",
     "evalue": "Don't know how to handle type <class 'pathlib.PosixPath'>",
     "output_type": "error",
     "traceback": [
      "\u001B[0;31m---------------------------------------------------------------------------\u001B[0m",
      "\u001B[0;31mTypeError\u001B[0m                                 Traceback (most recent call last)",
      "Cell \u001B[0;32mIn[2], line 1\u001B[0m\n\u001B[0;32m----> 1\u001B[0m vr \u001B[39m=\u001B[39m VideoReader(Path(\u001B[39m'\u001B[39;49m\u001B[39m/nas/adnd/T1/db/UDIVA/train/recordings/animals_recordings_train/020090/FC1_A.mp4\u001B[39;49m\u001B[39m'\u001B[39;49m), ctx\u001B[39m=\u001B[39;49mcpu(\u001B[39m0\u001B[39;49m))\n",
      "File \u001B[0;32m~/a9gads_workdir/project-workspace/udiva_regression/venv/lib/python3.10/site-packages/decord/video_reader.py:54\u001B[0m, in \u001B[0;36mVideoReader.__init__\u001B[0;34m(self, uri, ctx, width, height, num_threads, fault_tol)\u001B[0m\n\u001B[1;32m     51\u001B[0m     \u001B[39mself\u001B[39m\u001B[39m.\u001B[39m_handle \u001B[39m=\u001B[39m _CAPI_VideoReaderGetVideoReader(\n\u001B[1;32m     52\u001B[0m         ba, ctx\u001B[39m.\u001B[39mdevice_type, ctx\u001B[39m.\u001B[39mdevice_id, width, height, num_threads, \u001B[39m2\u001B[39m, fault_tol)\n\u001B[1;32m     53\u001B[0m \u001B[39melse\u001B[39;00m:\n\u001B[0;32m---> 54\u001B[0m     \u001B[39mself\u001B[39m\u001B[39m.\u001B[39m_handle \u001B[39m=\u001B[39m _CAPI_VideoReaderGetVideoReader(\n\u001B[1;32m     55\u001B[0m         uri, ctx\u001B[39m.\u001B[39;49mdevice_type, ctx\u001B[39m.\u001B[39;49mdevice_id, width, height, num_threads, \u001B[39m0\u001B[39;49m, fault_tol)\n\u001B[1;32m     56\u001B[0m \u001B[39mif\u001B[39;00m \u001B[39mself\u001B[39m\u001B[39m.\u001B[39m_handle \u001B[39mis\u001B[39;00m \u001B[39mNone\u001B[39;00m:\n\u001B[1;32m     57\u001B[0m     \u001B[39mraise\u001B[39;00m \u001B[39mRuntimeError\u001B[39;00m(\u001B[39m\"\u001B[39m\u001B[39mError reading \u001B[39m\u001B[39m\"\u001B[39m \u001B[39m+\u001B[39m uri \u001B[39m+\u001B[39m \u001B[39m\"\u001B[39m\u001B[39m...\u001B[39m\u001B[39m\"\u001B[39m)\n",
      "File \u001B[0;32m~/a9gads_workdir/project-workspace/udiva_regression/venv/lib/python3.10/site-packages/decord/_ffi/_ctypes/function.py:170\u001B[0m, in \u001B[0;36mFunctionBase.__call__\u001B[0;34m(self, *args)\u001B[0m\n\u001B[1;32m    164\u001B[0m \u001B[39m\u001B[39m\u001B[39m\"\"\"Call the function with positional arguments\u001B[39;00m\n\u001B[1;32m    165\u001B[0m \n\u001B[1;32m    166\u001B[0m \u001B[39margs : list\u001B[39;00m\n\u001B[1;32m    167\u001B[0m \u001B[39m   The positional arguments to the function call.\u001B[39;00m\n\u001B[1;32m    168\u001B[0m \u001B[39m\"\"\"\u001B[39;00m\n\u001B[1;32m    169\u001B[0m temp_args \u001B[39m=\u001B[39m []\n\u001B[0;32m--> 170\u001B[0m values, tcodes, num_args \u001B[39m=\u001B[39m _make_decord_args(args, temp_args)\n\u001B[1;32m    171\u001B[0m ret_val \u001B[39m=\u001B[39m DECORDValue()\n\u001B[1;32m    172\u001B[0m ret_tcode \u001B[39m=\u001B[39m ctypes\u001B[39m.\u001B[39mc_int()\n",
      "File \u001B[0;32m~/a9gads_workdir/project-workspace/udiva_regression/venv/lib/python3.10/site-packages/decord/_ffi/_ctypes/function.py:137\u001B[0m, in \u001B[0;36m_make_decord_args\u001B[0;34m(args, temp_args)\u001B[0m\n\u001B[1;32m    135\u001B[0m         temp_args\u001B[39m.\u001B[39mappend(arg)\n\u001B[1;32m    136\u001B[0m     \u001B[39melse\u001B[39;00m:\n\u001B[0;32m--> 137\u001B[0m         \u001B[39mraise\u001B[39;00m \u001B[39mTypeError\u001B[39;00m(\u001B[39m\"\u001B[39m\u001B[39mDon\u001B[39m\u001B[39m'\u001B[39m\u001B[39mt know how to handle type \u001B[39m\u001B[39m%s\u001B[39;00m\u001B[39m\"\u001B[39m \u001B[39m%\u001B[39m \u001B[39mtype\u001B[39m(arg))\n\u001B[1;32m    138\u001B[0m \u001B[39mreturn\u001B[39;00m values, type_codes, num_args\n",
      "\u001B[0;31mTypeError\u001B[0m: Don't know how to handle type <class 'pathlib.PosixPath'>"
     ]
    }
   ],
   "source": [
    "vr = VideoReader(Path('/nas/adnd/T1/db/UDIVA/train/recordings/animals_recordings_train/020090/FC1_A.mp4'), ctx=cpu(0))\n"
   ]
  },
  {
   "cell_type": "code",
   "execution_count": null,
   "metadata": {},
   "outputs": [],
   "source": []
  },
  {
   "cell_type": "code",
   "execution_count": 28,
   "metadata": {},
   "outputs": [],
   "source": [
    "with open('/nas/adnd/T1/db/UDIVA/train/recordings/animals_recordings_train/020090/FC1_A.mp4','rb') as f:\n",
    "    vr2 = VideoReader(f,ctx=cpu(0))"
   ]
  },
  {
   "cell_type": "code",
   "execution_count": 41,
   "metadata": {},
   "outputs": [],
   "source": [
    "frame = vr[0]"
   ]
  },
  {
   "cell_type": "code",
   "execution_count": 44,
   "metadata": {},
   "outputs": [],
   "source": [
    "framenp = frame.asnumpy()"
   ]
  },
  {
   "cell_type": "code",
   "execution_count": 47,
   "metadata": {},
   "outputs": [
    {
     "data": {
      "text/plain": [
       "(720, 1280, 3)"
      ]
     },
     "execution_count": 47,
     "metadata": {},
     "output_type": "execute_result"
    }
   ],
   "source": []
  },
  {
   "cell_type": "code",
   "execution_count": 24,
   "metadata": {},
   "outputs": [
    {
     "data": {
      "text/plain": [
       "20489"
      ]
     },
     "execution_count": 24,
     "metadata": {},
     "output_type": "execute_result"
    }
   ],
   "source": [
    "len(vr)"
   ]
  }
 ],
 "metadata": {
  "kernelspec": {
   "display_name": "venv",
   "language": "python",
   "name": "python3"
  },
  "language_info": {
   "codemirror_mode": {
    "name": "ipython",
    "version": 3
   },
   "file_extension": ".py",
   "mimetype": "text/x-python",
   "name": "python",
   "nbconvert_exporter": "python",
   "pygments_lexer": "ipython3",
   "version": "3.10.10"
  },
  "orig_nbformat": 4
 },
 "nbformat": 4,
 "nbformat_minor": 2
}
